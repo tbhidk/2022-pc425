{
  "cells": [
    {
      "cell_type": "markdown",
      "metadata": {
        "id": "dzoTkyFIv2dI"
      },
      "source": [
        "## **About Aweshome**\n",
        "\n",
        "Aweshome is a chatbot created by implementing machine learning in it. Its manufacture is carried out as an additional feature that will complement the smart home application created that also called Aweshome.\n",
        "This application has a motto:\n",
        "\n",
        "***Aweshome: Make your home smart and awesome ***\n",
        "\n",
        "The chatbot feature will help users explicitly manage the appliances in their house, as well as to know the condition of their house."
      ]
    },
    {
      "cell_type": "markdown",
      "metadata": {
        "id": "9lIK8Wk4w-L8"
      },
      "source": [
        "# **Steps to create Aweshome Chatbot**\n",
        "\n",
        "The following is an overview of the steps taken to create an Aweshome chatbot:\n",
        "1. Prepare the required packages, including the Deep Learning, Tensorflow, Keras, Pickle, and NLTK (Natural Language Processing Toolkit) libraries.\n",
        "2. Prepare a dataset in the form of a collection of user input and output that must be displayed in response to the Aweshome chatbot. The file is saved in JSON type and is named \"intents.\"\n",
        "3. Perform data preparation including import required packages, load the JSON file and extract the required data.\n",
        "4. Creating models including training and testing models.\n",
        "5. Integrating Aweshome chatbot with application.\n",
        "\n"
      ]
    },
    {
      "cell_type": "code",
      "execution_count": null,
      "metadata": {
        "id": "3Lk2kSK3m8bN"
      },
      "outputs": [],
      "source": [
        "#code for import the packages\n",
        "import tensorflow as tf\n",
        "import numpy as np\n",
        "import pandas as pd\n",
        "import json\n",
        "import nltk\n",
        "import os\n",
        "from tensorflow.keras.preprocessing.text import Tokenizer\n",
        "from tensorflow.keras import layers\n",
        "from tensorflow.keras.layers import Input, Embedding, LSTM , Dense,GlobalMaxPooling1D,Flatten\n",
        "from tensorflow.keras.models import Model\n",
        "import matplotlib.pyplot as plt"
      ]
    },
    {
      "cell_type": "code",
      "execution_count": null,
      "metadata": {
        "id": "9x8Y8oo-n8qL"
      },
      "outputs": [],
      "source": [
        "#code for import the dataset that have been created in JSON format\n",
        "with open('intents.json') as content:\n",
        "  data1 = json.load(content)"
      ]
    },
    {
      "cell_type": "code",
      "execution_count": null,
      "metadata": {
        "id": "TWSsL8pzoDHv"
      },
      "outputs": [],
      "source": [
        "#code for getting all the data to lists\n",
        "tags = []\n",
        "patterns = []\n",
        "responses={}\n",
        "for intent in data1['intents']:\n",
        "  responses[intent['tag']]=intent['responses']\n",
        "  for lines in intent['patterns']:\n",
        "    patterns.append(lines)\n",
        "    tags.append(intent['tag'])"
      ]
    },
    {
      "cell_type": "code",
      "execution_count": null,
      "metadata": {
        "id": "CyFItEYXoECF"
      },
      "outputs": [],
      "source": [
        "#code for convert the data to dataframe\n",
        "data = pd.DataFrame({\"inputs\":patterns,\n",
        "                     \"tags\":tags})"
      ]
    },
    {
      "cell_type": "code",
      "execution_count": null,
      "metadata": {
        "id": "KREe0b5soGCg"
      },
      "outputs": [],
      "source": [
        "#code for print the data and get data sample\n",
        "data\n",
        "data = data.sample(frac=1)"
      ]
    },
    {
      "cell_type": "code",
      "execution_count": null,
      "metadata": {
        "colab": {
          "base_uri": "https://localhost:8080/",
          "height": 424
        },
        "id": "tU8j9ijloKPd",
        "outputId": "9272c91d-f3a7-4642-ab38-e20b2ee2cf31"
      },
      "outputs": [
        {
          "output_type": "execute_result",
          "data": {
            "text/plain": [
              "                                         inputs            tags\n",
              "105                     kamu bisa matikan lampu      lampu_mati\n",
              "43                            aku ingin dibantu           bantu\n",
              "208            apakah pakaian sudah dikeluarkan  jemuran_keluar\n",
              "224                           keluarkan jemuran  jemuran_keluar\n",
              "23                  kenalin dong kamu ini siapa            nama\n",
              "..                                          ...             ...\n",
              "204               keluarkan jemurannya sekarang  jemuran_keluar\n",
              "192                            masukkan jemuran   jemuran_masuk\n",
              "13   assalamualaikum warahmatullahi wabarakatuh          salam2\n",
              "196            apakah jemuran sudah dikeluarkan  jemuran_keluar\n",
              "52        bagaimana kondisi kompor gas saat ini   kondisi_rumah\n",
              "\n",
              "[233 rows x 2 columns]"
            ],
            "text/html": [
              "\n",
              "  <div id=\"df-3a718540-47a3-4d78-9fdb-ce065f29022e\">\n",
              "    <div class=\"colab-df-container\">\n",
              "      <div>\n",
              "<style scoped>\n",
              "    .dataframe tbody tr th:only-of-type {\n",
              "        vertical-align: middle;\n",
              "    }\n",
              "\n",
              "    .dataframe tbody tr th {\n",
              "        vertical-align: top;\n",
              "    }\n",
              "\n",
              "    .dataframe thead th {\n",
              "        text-align: right;\n",
              "    }\n",
              "</style>\n",
              "<table border=\"1\" class=\"dataframe\">\n",
              "  <thead>\n",
              "    <tr style=\"text-align: right;\">\n",
              "      <th></th>\n",
              "      <th>inputs</th>\n",
              "      <th>tags</th>\n",
              "    </tr>\n",
              "  </thead>\n",
              "  <tbody>\n",
              "    <tr>\n",
              "      <th>105</th>\n",
              "      <td>kamu bisa matikan lampu</td>\n",
              "      <td>lampu_mati</td>\n",
              "    </tr>\n",
              "    <tr>\n",
              "      <th>43</th>\n",
              "      <td>aku ingin dibantu</td>\n",
              "      <td>bantu</td>\n",
              "    </tr>\n",
              "    <tr>\n",
              "      <th>208</th>\n",
              "      <td>apakah pakaian sudah dikeluarkan</td>\n",
              "      <td>jemuran_keluar</td>\n",
              "    </tr>\n",
              "    <tr>\n",
              "      <th>224</th>\n",
              "      <td>keluarkan jemuran</td>\n",
              "      <td>jemuran_keluar</td>\n",
              "    </tr>\n",
              "    <tr>\n",
              "      <th>23</th>\n",
              "      <td>kenalin dong kamu ini siapa</td>\n",
              "      <td>nama</td>\n",
              "    </tr>\n",
              "    <tr>\n",
              "      <th>...</th>\n",
              "      <td>...</td>\n",
              "      <td>...</td>\n",
              "    </tr>\n",
              "    <tr>\n",
              "      <th>204</th>\n",
              "      <td>keluarkan jemurannya sekarang</td>\n",
              "      <td>jemuran_keluar</td>\n",
              "    </tr>\n",
              "    <tr>\n",
              "      <th>192</th>\n",
              "      <td>masukkan jemuran</td>\n",
              "      <td>jemuran_masuk</td>\n",
              "    </tr>\n",
              "    <tr>\n",
              "      <th>13</th>\n",
              "      <td>assalamualaikum warahmatullahi wabarakatuh</td>\n",
              "      <td>salam2</td>\n",
              "    </tr>\n",
              "    <tr>\n",
              "      <th>196</th>\n",
              "      <td>apakah jemuran sudah dikeluarkan</td>\n",
              "      <td>jemuran_keluar</td>\n",
              "    </tr>\n",
              "    <tr>\n",
              "      <th>52</th>\n",
              "      <td>bagaimana kondisi kompor gas saat ini</td>\n",
              "      <td>kondisi_rumah</td>\n",
              "    </tr>\n",
              "  </tbody>\n",
              "</table>\n",
              "<p>233 rows × 2 columns</p>\n",
              "</div>\n",
              "      <button class=\"colab-df-convert\" onclick=\"convertToInteractive('df-3a718540-47a3-4d78-9fdb-ce065f29022e')\"\n",
              "              title=\"Convert this dataframe to an interactive table.\"\n",
              "              style=\"display:none;\">\n",
              "        \n",
              "  <svg xmlns=\"http://www.w3.org/2000/svg\" height=\"24px\"viewBox=\"0 0 24 24\"\n",
              "       width=\"24px\">\n",
              "    <path d=\"M0 0h24v24H0V0z\" fill=\"none\"/>\n",
              "    <path d=\"M18.56 5.44l.94 2.06.94-2.06 2.06-.94-2.06-.94-.94-2.06-.94 2.06-2.06.94zm-11 1L8.5 8.5l.94-2.06 2.06-.94-2.06-.94L8.5 2.5l-.94 2.06-2.06.94zm10 10l.94 2.06.94-2.06 2.06-.94-2.06-.94-.94-2.06-.94 2.06-2.06.94z\"/><path d=\"M17.41 7.96l-1.37-1.37c-.4-.4-.92-.59-1.43-.59-.52 0-1.04.2-1.43.59L10.3 9.45l-7.72 7.72c-.78.78-.78 2.05 0 2.83L4 21.41c.39.39.9.59 1.41.59.51 0 1.02-.2 1.41-.59l7.78-7.78 2.81-2.81c.8-.78.8-2.07 0-2.86zM5.41 20L4 18.59l7.72-7.72 1.47 1.35L5.41 20z\"/>\n",
              "  </svg>\n",
              "      </button>\n",
              "      \n",
              "  <style>\n",
              "    .colab-df-container {\n",
              "      display:flex;\n",
              "      flex-wrap:wrap;\n",
              "      gap: 12px;\n",
              "    }\n",
              "\n",
              "    .colab-df-convert {\n",
              "      background-color: #E8F0FE;\n",
              "      border: none;\n",
              "      border-radius: 50%;\n",
              "      cursor: pointer;\n",
              "      display: none;\n",
              "      fill: #1967D2;\n",
              "      height: 32px;\n",
              "      padding: 0 0 0 0;\n",
              "      width: 32px;\n",
              "    }\n",
              "\n",
              "    .colab-df-convert:hover {\n",
              "      background-color: #E2EBFA;\n",
              "      box-shadow: 0px 1px 2px rgba(60, 64, 67, 0.3), 0px 1px 3px 1px rgba(60, 64, 67, 0.15);\n",
              "      fill: #174EA6;\n",
              "    }\n",
              "\n",
              "    [theme=dark] .colab-df-convert {\n",
              "      background-color: #3B4455;\n",
              "      fill: #D2E3FC;\n",
              "    }\n",
              "\n",
              "    [theme=dark] .colab-df-convert:hover {\n",
              "      background-color: #434B5C;\n",
              "      box-shadow: 0px 1px 3px 1px rgba(0, 0, 0, 0.15);\n",
              "      filter: drop-shadow(0px 1px 2px rgba(0, 0, 0, 0.3));\n",
              "      fill: #FFFFFF;\n",
              "    }\n",
              "  </style>\n",
              "\n",
              "      <script>\n",
              "        const buttonEl =\n",
              "          document.querySelector('#df-3a718540-47a3-4d78-9fdb-ce065f29022e button.colab-df-convert');\n",
              "        buttonEl.style.display =\n",
              "          google.colab.kernel.accessAllowed ? 'block' : 'none';\n",
              "\n",
              "        async function convertToInteractive(key) {\n",
              "          const element = document.querySelector('#df-3a718540-47a3-4d78-9fdb-ce065f29022e');\n",
              "          const dataTable =\n",
              "            await google.colab.kernel.invokeFunction('convertToInteractive',\n",
              "                                                     [key], {});\n",
              "          if (!dataTable) return;\n",
              "\n",
              "          const docLinkHtml = 'Like what you see? Visit the ' +\n",
              "            '<a target=\"_blank\" href=https://colab.research.google.com/notebooks/data_table.ipynb>data table notebook</a>'\n",
              "            + ' to learn more about interactive tables.';\n",
              "          element.innerHTML = '';\n",
              "          dataTable['output_type'] = 'display_data';\n",
              "          await google.colab.output.renderOutput(dataTable, element);\n",
              "          const docLink = document.createElement('div');\n",
              "          docLink.innerHTML = docLinkHtml;\n",
              "          element.appendChild(docLink);\n",
              "        }\n",
              "      </script>\n",
              "    </div>\n",
              "  </div>\n",
              "  "
            ]
          },
          "metadata": {},
          "execution_count": 50
        }
      ],
      "source": [
        "#code for remove punctuations\n",
        "import string\n",
        "data['inputs'] = data['inputs'].apply(lambda wrd:[ltrs.lower() for ltrs in wrd if ltrs not in string.punctuation])\n",
        "data['inputs'] = data['inputs'].apply(lambda wrd: ''.join(wrd))\n",
        "data"
      ]
    },
    {
      "cell_type": "code",
      "execution_count": null,
      "metadata": {
        "id": "pXrgBPxooMSn"
      },
      "outputs": [],
      "source": [
        "#code for tokenize the data\n",
        "from tensorflow.keras.preprocessing.text import Tokenizer\n",
        "tokenizer = Tokenizer(num_words=2000)\n",
        "tokenizer.fit_on_texts(data['inputs'])\n",
        "train = tokenizer.texts_to_sequences(data['inputs'])\n",
        "#code for apply padding\n",
        "from tensorflow.keras.preprocessing.sequence import pad_sequences\n",
        "x_train = pad_sequences(train)\n",
        "\n",
        "#code for encode the outputs\n",
        "from sklearn.preprocessing import LabelEncoder\n",
        "lbl_encoder = LabelEncoder()\n",
        "y_train = lbl_encoder.fit_transform(data['tags'])"
      ]
    },
    {
      "cell_type": "code",
      "execution_count": null,
      "metadata": {
        "colab": {
          "base_uri": "https://localhost:8080/"
        },
        "id": "lEvG_oKcoOpU",
        "outputId": "b321cae2-92a8-46f5-a1bb-fbe1e12f9555"
      },
      "outputs": [
        {
          "output_type": "stream",
          "name": "stdout",
          "text": [
            "8\n"
          ]
        }
      ],
      "source": [
        "input_shape = x_train.shape[1]\n",
        "print(input_shape)"
      ]
    },
    {
      "cell_type": "code",
      "execution_count": null,
      "metadata": {
        "colab": {
          "base_uri": "https://localhost:8080/"
        },
        "id": "LK1Dj0T3oQ4E",
        "outputId": "6de5f798-b6a8-4d79-f5ef-a6c71ba6b374"
      },
      "outputs": [
        {
          "output_type": "stream",
          "name": "stdout",
          "text": [
            "number of unique words :  161\n",
            "output length:  15\n"
          ]
        }
      ],
      "source": [
        "#code for define vocabulary\n",
        "vocabulary = len(tokenizer.word_index)\n",
        "print(\"number of unique words : \",vocabulary)\n",
        "output_length = lbl_encoder.classes_.shape[0]\n",
        "print(\"output length: \",output_length)"
      ]
    },
    {
      "cell_type": "code",
      "execution_count": null,
      "metadata": {
        "colab": {
          "base_uri": "https://localhost:8080/"
        },
        "id": "9B4NhvHCoVXk",
        "outputId": "c5df376b-553f-4250-cff7-4b80c59f3baa"
      },
      "outputs": [
        {
          "output_type": "stream",
          "name": "stdout",
          "text": [
            "Model: \"model_2\"\n",
            "_________________________________________________________________\n",
            " Layer (type)                Output Shape              Param #   \n",
            "=================================================================\n",
            " input_3 (InputLayer)        [(None, 8)]               0         \n",
            "                                                                 \n",
            " embedding_2 (Embedding)     (None, 8, 10)             1620      \n",
            "                                                                 \n",
            " lstm_2 (LSTM)               (None, 8, 12)             1104      \n",
            "                                                                 \n",
            " flatten_2 (Flatten)         (None, 96)                0         \n",
            "                                                                 \n",
            " dense_2 (Dense)             (None, 15)                1455      \n",
            "                                                                 \n",
            "=================================================================\n",
            "Total params: 4,179\n",
            "Trainable params: 4,179\n",
            "Non-trainable params: 0\n",
            "_________________________________________________________________\n"
          ]
        }
      ],
      "source": [
        "#code for create the model\n",
        "\n",
        "i = Input(shape=(input_shape,))\n",
        "x = Embedding(vocabulary+1,10)(i)\n",
        "x = LSTM(12,return_sequences=True)(x)\n",
        "x = LSTM(12,return_sequences=True)(x)\n",
        "x = Flatten()(x)\n",
        "x = Dense(output_length,activation=\"softmax\")(x)\n",
        "model  = tf.keras.Model(i,x)\n",
        "model.summary()"
      ]
    },
    {
      "cell_type": "code",
      "execution_count": null,
      "metadata": {
        "id": "VO1_j36BoXzc"
      },
      "outputs": [],
      "source": [
        "#code for compile the model\n",
        "model.compile(loss=\"sparse_categorical_crossentropy\",optimizer='adam',metrics=['accuracy'])"
      ]
    },
    {
      "cell_type": "code",
      "execution_count": null,
      "metadata": {
        "colab": {
          "base_uri": "https://localhost:8080/"
        },
        "id": "xED3qGBooYR9",
        "outputId": "7b67fa07-f43b-430a-db86-0883723b114a"
      },
      "outputs": [
        {
          "output_type": "stream",
          "name": "stdout",
          "text": [
            "Epoch 1/100\n",
            "8/8 [==============================] - 2s 7ms/step - loss: 2.7075 - accuracy: 0.0773\n",
            "Epoch 2/100\n",
            "8/8 [==============================] - 0s 6ms/step - loss: 2.6982 - accuracy: 0.2017\n",
            "Epoch 3/100\n",
            "8/8 [==============================] - 0s 6ms/step - loss: 2.6891 - accuracy: 0.2232\n",
            "Epoch 4/100\n",
            "8/8 [==============================] - 0s 6ms/step - loss: 2.6778 - accuracy: 0.2275\n",
            "Epoch 5/100\n",
            "8/8 [==============================] - 0s 6ms/step - loss: 2.6620 - accuracy: 0.2232\n",
            "Epoch 6/100\n",
            "8/8 [==============================] - 0s 6ms/step - loss: 2.6395 - accuracy: 0.2232\n",
            "Epoch 7/100\n",
            "8/8 [==============================] - 0s 7ms/step - loss: 2.6115 - accuracy: 0.1545\n",
            "Epoch 8/100\n",
            "8/8 [==============================] - 0s 6ms/step - loss: 2.5692 - accuracy: 0.1459\n",
            "Epoch 9/100\n",
            "8/8 [==============================] - 0s 8ms/step - loss: 2.5284 - accuracy: 0.1459\n",
            "Epoch 10/100\n",
            "8/8 [==============================] - 0s 6ms/step - loss: 2.4926 - accuracy: 0.1459\n",
            "Epoch 11/100\n",
            "8/8 [==============================] - 0s 7ms/step - loss: 2.4702 - accuracy: 0.1459\n",
            "Epoch 12/100\n",
            "8/8 [==============================] - 0s 7ms/step - loss: 2.4493 - accuracy: 0.1459\n",
            "Epoch 13/100\n",
            "8/8 [==============================] - 0s 8ms/step - loss: 2.4226 - accuracy: 0.1459\n",
            "Epoch 14/100\n",
            "8/8 [==============================] - 0s 7ms/step - loss: 2.3911 - accuracy: 0.1545\n",
            "Epoch 15/100\n",
            "8/8 [==============================] - 0s 7ms/step - loss: 2.3556 - accuracy: 0.2017\n",
            "Epoch 16/100\n",
            "8/8 [==============================] - 0s 10ms/step - loss: 2.3143 - accuracy: 0.2446\n",
            "Epoch 17/100\n",
            "8/8 [==============================] - 0s 9ms/step - loss: 2.2680 - accuracy: 0.3047\n",
            "Epoch 18/100\n",
            "8/8 [==============================] - 0s 8ms/step - loss: 2.2188 - accuracy: 0.3219\n",
            "Epoch 19/100\n",
            "8/8 [==============================] - 0s 10ms/step - loss: 2.1652 - accuracy: 0.3090\n",
            "Epoch 20/100\n",
            "8/8 [==============================] - 0s 10ms/step - loss: 2.1115 - accuracy: 0.2918\n",
            "Epoch 21/100\n",
            "8/8 [==============================] - 0s 8ms/step - loss: 2.0609 - accuracy: 0.2704\n",
            "Epoch 22/100\n",
            "8/8 [==============================] - 0s 10ms/step - loss: 2.0064 - accuracy: 0.3004\n",
            "Epoch 23/100\n",
            "8/8 [==============================] - 0s 11ms/step - loss: 1.9559 - accuracy: 0.3262\n",
            "Epoch 24/100\n",
            "8/8 [==============================] - 0s 8ms/step - loss: 1.9071 - accuracy: 0.3219\n",
            "Epoch 25/100\n",
            "8/8 [==============================] - 0s 8ms/step - loss: 1.8596 - accuracy: 0.3348\n",
            "Epoch 26/100\n",
            "8/8 [==============================] - 0s 9ms/step - loss: 1.8162 - accuracy: 0.3948\n",
            "Epoch 27/100\n",
            "8/8 [==============================] - 0s 9ms/step - loss: 1.7721 - accuracy: 0.3948\n",
            "Epoch 28/100\n",
            "8/8 [==============================] - 0s 8ms/step - loss: 1.7290 - accuracy: 0.4120\n",
            "Epoch 29/100\n",
            "8/8 [==============================] - 0s 9ms/step - loss: 1.6875 - accuracy: 0.4850\n",
            "Epoch 30/100\n",
            "8/8 [==============================] - 0s 10ms/step - loss: 1.6453 - accuracy: 0.5064\n",
            "Epoch 31/100\n",
            "8/8 [==============================] - 0s 9ms/step - loss: 1.6065 - accuracy: 0.5322\n",
            "Epoch 32/100\n",
            "8/8 [==============================] - 0s 8ms/step - loss: 1.5666 - accuracy: 0.5536\n",
            "Epoch 33/100\n",
            "8/8 [==============================] - 0s 9ms/step - loss: 1.5295 - accuracy: 0.5579\n",
            "Epoch 34/100\n",
            "8/8 [==============================] - 0s 8ms/step - loss: 1.4917 - accuracy: 0.5923\n",
            "Epoch 35/100\n",
            "8/8 [==============================] - 0s 10ms/step - loss: 1.4587 - accuracy: 0.5880\n",
            "Epoch 36/100\n",
            "8/8 [==============================] - 0s 8ms/step - loss: 1.4177 - accuracy: 0.6395\n",
            "Epoch 37/100\n",
            "8/8 [==============================] - 0s 13ms/step - loss: 1.3799 - accuracy: 0.6438\n",
            "Epoch 38/100\n",
            "8/8 [==============================] - 0s 9ms/step - loss: 1.3443 - accuracy: 0.6695\n",
            "Epoch 39/100\n",
            "8/8 [==============================] - 0s 6ms/step - loss: 1.3112 - accuracy: 0.6996\n",
            "Epoch 40/100\n",
            "8/8 [==============================] - 0s 6ms/step - loss: 1.2708 - accuracy: 0.6910\n",
            "Epoch 41/100\n",
            "8/8 [==============================] - 0s 6ms/step - loss: 1.2351 - accuracy: 0.7124\n",
            "Epoch 42/100\n",
            "8/8 [==============================] - 0s 6ms/step - loss: 1.1998 - accuracy: 0.7425\n",
            "Epoch 43/100\n",
            "8/8 [==============================] - 0s 6ms/step - loss: 1.1634 - accuracy: 0.7511\n",
            "Epoch 44/100\n",
            "8/8 [==============================] - 0s 6ms/step - loss: 1.1267 - accuracy: 0.7511\n",
            "Epoch 45/100\n",
            "8/8 [==============================] - 0s 7ms/step - loss: 1.0967 - accuracy: 0.7554\n",
            "Epoch 46/100\n",
            "8/8 [==============================] - 0s 12ms/step - loss: 1.0639 - accuracy: 0.7511\n",
            "Epoch 47/100\n",
            "8/8 [==============================] - 0s 8ms/step - loss: 1.0331 - accuracy: 0.7511\n",
            "Epoch 48/100\n",
            "8/8 [==============================] - 0s 9ms/step - loss: 0.9974 - accuracy: 0.7639\n",
            "Epoch 49/100\n",
            "8/8 [==============================] - 0s 6ms/step - loss: 0.9698 - accuracy: 0.7725\n",
            "Epoch 50/100\n",
            "8/8 [==============================] - 0s 6ms/step - loss: 0.9428 - accuracy: 0.7897\n",
            "Epoch 51/100\n",
            "8/8 [==============================] - 0s 6ms/step - loss: 0.9091 - accuracy: 0.7811\n",
            "Epoch 52/100\n",
            "8/8 [==============================] - 0s 6ms/step - loss: 0.8841 - accuracy: 0.7940\n",
            "Epoch 53/100\n",
            "8/8 [==============================] - 0s 7ms/step - loss: 0.8571 - accuracy: 0.8026\n",
            "Epoch 54/100\n",
            "8/8 [==============================] - 0s 6ms/step - loss: 0.8320 - accuracy: 0.7940\n",
            "Epoch 55/100\n",
            "8/8 [==============================] - 0s 6ms/step - loss: 0.8075 - accuracy: 0.8069\n",
            "Epoch 56/100\n",
            "8/8 [==============================] - 0s 6ms/step - loss: 0.7818 - accuracy: 0.8069\n",
            "Epoch 57/100\n",
            "8/8 [==============================] - 0s 6ms/step - loss: 0.7632 - accuracy: 0.8069\n",
            "Epoch 58/100\n",
            "8/8 [==============================] - 0s 6ms/step - loss: 0.7416 - accuracy: 0.8155\n",
            "Epoch 59/100\n",
            "8/8 [==============================] - 0s 8ms/step - loss: 0.7223 - accuracy: 0.8112\n",
            "Epoch 60/100\n",
            "8/8 [==============================] - 0s 6ms/step - loss: 0.6983 - accuracy: 0.8112\n",
            "Epoch 61/100\n",
            "8/8 [==============================] - 0s 6ms/step - loss: 0.6845 - accuracy: 0.8155\n",
            "Epoch 62/100\n",
            "8/8 [==============================] - 0s 6ms/step - loss: 0.6605 - accuracy: 0.8326\n",
            "Epoch 63/100\n",
            "8/8 [==============================] - 0s 6ms/step - loss: 0.6458 - accuracy: 0.8369\n",
            "Epoch 64/100\n",
            "8/8 [==============================] - 0s 9ms/step - loss: 0.6284 - accuracy: 0.8369\n",
            "Epoch 65/100\n",
            "8/8 [==============================] - 0s 7ms/step - loss: 0.6141 - accuracy: 0.8369\n",
            "Epoch 66/100\n",
            "8/8 [==============================] - 0s 6ms/step - loss: 0.5974 - accuracy: 0.8369\n",
            "Epoch 67/100\n",
            "8/8 [==============================] - 0s 6ms/step - loss: 0.5818 - accuracy: 0.8670\n",
            "Epoch 68/100\n",
            "8/8 [==============================] - 0s 6ms/step - loss: 0.5666 - accuracy: 0.8884\n",
            "Epoch 69/100\n",
            "8/8 [==============================] - 0s 6ms/step - loss: 0.5582 - accuracy: 0.8584\n",
            "Epoch 70/100\n",
            "8/8 [==============================] - 0s 7ms/step - loss: 0.5405 - accuracy: 0.8584\n",
            "Epoch 71/100\n",
            "8/8 [==============================] - 0s 6ms/step - loss: 0.5306 - accuracy: 0.8755\n",
            "Epoch 72/100\n",
            "8/8 [==============================] - 0s 7ms/step - loss: 0.5181 - accuracy: 0.8970\n",
            "Epoch 73/100\n",
            "8/8 [==============================] - 0s 6ms/step - loss: 0.5067 - accuracy: 0.8970\n",
            "Epoch 74/100\n",
            "8/8 [==============================] - 0s 6ms/step - loss: 0.4948 - accuracy: 0.8798\n",
            "Epoch 75/100\n",
            "8/8 [==============================] - 0s 6ms/step - loss: 0.4872 - accuracy: 0.8798\n",
            "Epoch 76/100\n",
            "8/8 [==============================] - 0s 6ms/step - loss: 0.4742 - accuracy: 0.8798\n",
            "Epoch 77/100\n",
            "8/8 [==============================] - 0s 6ms/step - loss: 0.4647 - accuracy: 0.8841\n",
            "Epoch 78/100\n",
            "8/8 [==============================] - 0s 6ms/step - loss: 0.4536 - accuracy: 0.8798\n",
            "Epoch 79/100\n",
            "8/8 [==============================] - 0s 8ms/step - loss: 0.4442 - accuracy: 0.8970\n",
            "Epoch 80/100\n",
            "8/8 [==============================] - 0s 6ms/step - loss: 0.4341 - accuracy: 0.9227\n",
            "Epoch 81/100\n",
            "8/8 [==============================] - 0s 7ms/step - loss: 0.4264 - accuracy: 0.9099\n",
            "Epoch 82/100\n",
            "8/8 [==============================] - 0s 6ms/step - loss: 0.4182 - accuracy: 0.9142\n",
            "Epoch 83/100\n",
            "8/8 [==============================] - 0s 6ms/step - loss: 0.4108 - accuracy: 0.9099\n",
            "Epoch 84/100\n",
            "8/8 [==============================] - 0s 6ms/step - loss: 0.4013 - accuracy: 0.9185\n",
            "Epoch 85/100\n",
            "8/8 [==============================] - 0s 7ms/step - loss: 0.3943 - accuracy: 0.9442\n",
            "Epoch 86/100\n",
            "8/8 [==============================] - 0s 6ms/step - loss: 0.3847 - accuracy: 0.9227\n",
            "Epoch 87/100\n",
            "8/8 [==============================] - 0s 6ms/step - loss: 0.3776 - accuracy: 0.9270\n",
            "Epoch 88/100\n",
            "8/8 [==============================] - 0s 6ms/step - loss: 0.3705 - accuracy: 0.9356\n",
            "Epoch 89/100\n",
            "8/8 [==============================] - 0s 6ms/step - loss: 0.3644 - accuracy: 0.9356\n",
            "Epoch 90/100\n",
            "8/8 [==============================] - 0s 6ms/step - loss: 0.3567 - accuracy: 0.9399\n",
            "Epoch 91/100\n",
            "8/8 [==============================] - 0s 6ms/step - loss: 0.3491 - accuracy: 0.9528\n",
            "Epoch 92/100\n",
            "8/8 [==============================] - 0s 6ms/step - loss: 0.3439 - accuracy: 0.9528\n",
            "Epoch 93/100\n",
            "8/8 [==============================] - 0s 6ms/step - loss: 0.3336 - accuracy: 0.9657\n",
            "Epoch 94/100\n",
            "8/8 [==============================] - 0s 6ms/step - loss: 0.3278 - accuracy: 0.9700\n",
            "Epoch 95/100\n",
            "8/8 [==============================] - 0s 6ms/step - loss: 0.3262 - accuracy: 0.9742\n",
            "Epoch 96/100\n",
            "8/8 [==============================] - 0s 6ms/step - loss: 0.3174 - accuracy: 0.9742\n",
            "Epoch 97/100\n",
            "8/8 [==============================] - 0s 6ms/step - loss: 0.3106 - accuracy: 0.9785\n",
            "Epoch 98/100\n",
            "8/8 [==============================] - 0s 6ms/step - loss: 0.3007 - accuracy: 0.9742\n",
            "Epoch 99/100\n",
            "8/8 [==============================] - 0s 7ms/step - loss: 0.2941 - accuracy: 0.9742\n",
            "Epoch 100/100\n",
            "8/8 [==============================] - 0s 6ms/step - loss: 0.2878 - accuracy: 0.9871\n"
          ]
        }
      ],
      "source": [
        "#code for train the model\n",
        "train = model.fit(x_train,y_train,epochs=100)"
      ]
    },
    {
      "cell_type": "code",
      "execution_count": null,
      "metadata": {
        "colab": {
          "base_uri": "https://localhost:8080/",
          "height": 552
        },
        "id": "BetA34bjoaLc",
        "outputId": "13ce5c0f-8780-450c-a652-a3f310e7b587"
      },
      "outputs": [
        {
          "output_type": "execute_result",
          "data": {
            "text/plain": [
              "Text(0.5, 1.0, 'Training Accuracy Model')"
            ]
          },
          "metadata": {},
          "execution_count": 57
        },
        {
          "output_type": "display_data",
          "data": {
            "text/plain": [
              "<Figure size 576x576 with 1 Axes>"
            ],
            "image/png": "[encoded data removed]"
          },
          "metadata": {
            "needs_background": "light"
          }
        },
        {
          "output_type": "display_data",
          "data": {
            "text/plain": [
              "<Figure size 576x576 with 1 Axes>"
            ],
            "image/png": "[encoded data removed]"
          },
          "metadata": {
            "needs_background": "light"
          }
        }
      ],
      "source": [
        "#code for plot accuracy model\n",
        "plt.figure(figsize=(8, 8))\n",
        "plt.subplot(2, 1, 1)\n",
        "plt.plot(train.history['accuracy'],label='training set accuracy',color='blue')\n",
        "plt.legend(loc='lower right')\n",
        "plt.xlabel('Epoch')\n",
        "plt.ylabel('Accuracy')\n",
        "plt.ylim([min(plt.ylim()),1])\n",
        "plt.title('Training Accuracy Model')\n",
        "\n",
        "#code for plot loss model\n",
        "plt.figure(figsize=(8, 8))\n",
        "plt.subplot(2, 1, 1)\n",
        "plt.plot(train.history['loss'],label='training set loss',color='red')\n",
        "plt.legend(loc='upper right')\n",
        "plt.xlabel('Epoch')\n",
        "plt.ylabel('Cross Entropy')\n",
        "plt.ylim([min(plt.ylim()),1])\n",
        "plt.title('Training Accuracy Model')\n"
      ]
    },
    {
      "cell_type": "code",
      "execution_count": null,
      "metadata": {
        "colab": {
          "background_save": true,
          "base_uri": "https://localhost:8080/"
        },
        "id": "8WndclXJM4Nf",
        "outputId": "46b862d4-d757-4e96-ac1f-ead70e2fe067"
      },
      "outputs": [
        {
          "name": "stderr",
          "output_type": "stream",
          "text": [
            "WARNING:absl:Found untraced functions such as lstm_cell_1_layer_call_fn, lstm_cell_1_layer_call_and_return_conditional_losses while saving (showing 2 of 2). These functions will not be directly callable after loading.\n"
          ]
        },
        {
          "name": "stdout",
          "output_type": "stream",
          "text": [
            "INFO:tensorflow:Assets written to: chat_model/assets\n"
          ]
        },
        {
          "name": "stderr",
          "output_type": "stream",
          "text": [
            "INFO:tensorflow:Assets written to: chat_model/assets\n",
            "WARNING:absl:<keras.layers.recurrent.LSTMCell object at 0x7f83ba8652d0> has the same name 'LSTMCell' as a built-in Keras object. Consider renaming <class 'keras.layers.recurrent.LSTMCell'> to avoid naming conflicts when loading with `tf.keras.models.load_model`. If renaming is not possible, pass the object in the `custom_objects` parameter of the load function.\n"
          ]
        }
      ],
      "source": [
        "#code for save the model\n",
        "model.save(\"chat_model\")\n",
        "import pickle\n",
        "\n",
        "# saving\n",
        "with open('tokenizer.pickle', 'wb') as handle:\n",
        "    pickle.dump(tokenizer, handle, protocol=pickle.HIGHEST_PROTOCOL)  \n",
        "\n",
        "with open('label_encoder.pickle', 'wb') as ecn_file:\n",
        "    pickle.dump(lbl_encoder, ecn_file, protocol=pickle.HIGHEST_PROTOCOL)"
      ]
    },
    {
      "cell_type": "code",
      "execution_count": null,
      "metadata": {
        "colab": {
          "background_save": true
        },
        "id": "gcPjxZXaA0HT"
      },
      "outputs": [],
      "source": [
        "# code for save model to h5 format \n",
        "model.save('./model.h5')"
      ]
    },
    {
      "cell_type": "code",
      "execution_count": null,
      "metadata": {
        "colab": {
          "base_uri": "https://localhost:8080/"
        },
        "id": "WPeTcsoxgExB",
        "outputId": "d01fa04d-37a5-4966-9915-5acfa68be4a2"
      },
      "outputs": [
        {
          "name": "stderr",
          "output_type": "stream",
          "text": [
            "WARNING:absl:Found untraced functions such as lstm_cell_layer_call_fn, lstm_cell_layer_call_and_return_conditional_losses while saving (showing 2 of 2). These functions will not be directly callable after loading.\n"
          ]
        },
        {
          "name": "stdout",
          "output_type": "stream",
          "text": [
            "INFO:tensorflow:Assets written to: /tmp/tmp9x8mzm91/assets\n"
          ]
        },
        {
          "name": "stderr",
          "output_type": "stream",
          "text": [
            "INFO:tensorflow:Assets written to: /tmp/tmp9x8mzm91/assets\n",
            "WARNING:absl:Buffer deduplication procedure will be skipped when flatbuffer library is not properly loaded\n"
          ]
        },
        {
          "data": {
            "text/plain": [
              "18848"
            ]
          },
          "execution_count": 20,
          "metadata": {},
          "output_type": "execute_result"
        }
      ],
      "source": [
        "# Code for save to tflite format\n",
        "from tensorflow import lite\n",
        "converter = lite.TFLiteConverter.from_keras_model(model)\n",
        "\n",
        "converter.optimizations = [tf.lite.Optimize.DEFAULT]\n",
        "converter.experimental_new_converter=True\n",
        "converter.target_spec.supported_ops = [tf.lite.OpsSet.TFLITE_BUILTINS, tf.lite.OpsSet.SELECT_TF_OPS]\n",
        "\n",
        "tfmodel = converter.convert()\n",
        "open('model.tflite', 'wb').write(tfmodel)"
      ]
    },
    {
      "cell_type": "code",
      "execution_count": null,
      "metadata": {
        "colab": {
          "base_uri": "https://localhost:8080/"
        },
        "id": "7xxX_zI6zcW2",
        "outputId": "0bd10317-68f6-4957-fa7b-ca0abdde8969"
      },
      "outputs": [
        {
          "name": "stdout",
          "output_type": "stream",
          "text": [
            "1 input(s):\n",
            "[ 1 11] <class 'numpy.float32'>\n",
            "\n",
            "1 output(s):\n",
            "[ 1 14] <class 'numpy.float32'>\n"
          ]
        }
      ],
      "source": [
        "import tensorflow as tf\n",
        "\n",
        "interpreter = tf.lite.Interpreter(model_path=\"model.tflite\")\n",
        "interpreter.allocate_tensors()\n",
        "\n",
        "# Print input shape and type\n",
        "inputs = interpreter.get_input_details()\n",
        "print('{} input(s):'.format(len(inputs)))\n",
        "for i in range(0, len(inputs)):\n",
        "    print('{} {}'.format(inputs[i]['shape'], inputs[i]['dtype']))\n",
        "\n",
        "# Print output shape and type\n",
        "outputs = interpreter.get_output_details()\n",
        "print('\\n{} output(s):'.format(len(outputs)))\n",
        "for i in range(0, len(outputs)):\n",
        "    print('{} {}'.format(outputs[i]['shape'], outputs[i]['dtype']))"
      ]
    },
    {
      "cell_type": "code",
      "execution_count": null,
      "metadata": {
        "id": "rslcSUHr_srA"
      },
      "outputs": [],
      "source": [
        "#code for set the condition for input and output\n",
        "import random\n",
        "\n",
        "while True:\n",
        "  texts_p = []\n",
        "  prediction_input = input('You : ')\n",
        "\n",
        "  #removing punctuation and converting to lowercase\n",
        "  prediction_input = [letters.lower() for letters in prediction_input if letters not in string.punctuation]\n",
        "  prediction_input = ''.join(prediction_input)\n",
        "  texts_p.append(prediction_input)\n",
        "\n",
        "  #tokenizing and padding\n",
        "  prediction_input = tokenizer.texts_to_sequences(texts_p)\n",
        "  prediction_input = np.array(prediction_input).reshape(-1)\n",
        "  prediction_input = pad_sequences([prediction_input],input_shape)\n",
        "\n",
        "  #getting output from model\n",
        "  output = model.predict(prediction_input)\n",
        "  output = output.argmax()\n",
        "  response_tag = lbl_encoder.inverse_transform([output])[0]\n",
        "\n",
        "  #finding the right tag and predicting\n",
        "  response_tag = lbl_encoder.inverse_transform([output])[0]\n",
        "  if response_tag == \"kondisi_rumah\":\n",
        "    kondisiLampu = \"nyala\"\n",
        "    kondisiPintu = \"terkunci\"\n",
        "    kondisiJemuran = \"aman\"\n",
        "    kondisiGas = \"aman\"\n",
        "    print(\"Aweshome: Saat ini lampu dalam kondisi\"{0}, \"pintu dalam keadaan {1}, jemuran {2}, dan kompor gas dalam kondisi {3}\".format(kondisiLampu, kondisiPintu, kondisiJemuran, kondisiGas))\n",
        "  elif response_tag == \"perpisahan\":\n",
        "    break\n",
        "  else:\n",
        "    print(\"Aweshome : \",random.choice(responses[response_tag]))  "
      ]
    },
    {
      "cell_type": "code",
      "execution_count": null,
      "metadata": {
        "id": "ZDDmdGp6FBad"
      },
      "outputs": [],
      "source": [
        "from tensorflow.keras.preprocessing.text import Tokenizer\n",
        "import string\n",
        "import random\n",
        "\n",
        "def getSensor(kondisi_rumah): #kondisiLampu=False, kondisiPintu=False, kondisiJemuran=False\n",
        "  kondisiLampu = kondisi_rumah[0] \n",
        "  kondisiPintu = kondisi_rumah[1] \n",
        "  kondisiJemuran = kondisi_rumah[2] \n",
        "  kondisiGas = kondisi_rumah[3] \n",
        "  #kondisiLampu\n",
        "  if kondisiLampu==False:\n",
        "    kondisiLampu='mati'\n",
        "  else:\n",
        "    kondisiLampu='nyala'\n",
        "    #kondisiPintu\n",
        "  if kondisiPintu==False:\n",
        "    kondisiPintu='terbuka'\n",
        "  else:\n",
        "    kondisiPintu='terkunci'\n",
        "  #kondisiJemuran\n",
        "  if kondisiJemuran==False:\n",
        "    kondisiJemuran='kehujanan'\n",
        "  else:\n",
        "    kondisiJemuran='aman'\n",
        "  #kondisiGas\n",
        "  if kondisiGas==False:\n",
        "    kondisiGas='mati'\n",
        "  else:\n",
        "    kondisiGas='nyala'\n",
        "  return kondisiLampu, kondisiPintu, kondisiJemuran, kondisiGas\n",
        "\n",
        "def chat(user_text):\n",
        "  texts_p = []\n",
        "  #print('You : ', user_text)\n",
        "  #removing punctuation and converting to lowercase\n",
        "  prediction_input = [letters.lower() for letters in user_text if letters not in string.punctuation]\n",
        "  prediction_input = ''.join(prediction_input)\n",
        "  texts_p.append(prediction_input)\n",
        "\n",
        "  #tokenizing and padding\n",
        "  prediction_input = tokenizer.texts_to_sequences(texts_p)\n",
        "  prediction_input = np.array(prediction_input).reshape(-1)\n",
        "  prediction_input = pad_sequences([prediction_input],input_shape)\n",
        "\n",
        "  #getting output from model\n",
        "  output = model.predict(prediction_input)\n",
        "  output = output.argmax()\n",
        "  response_tag = lbl_encoder.inverse_transform([output])[0]\n",
        "\n",
        "  #finding the right tag and predicting\n",
        "  response_tag = lbl_encoder.inverse_transform([output])[0]\n",
        "  if response_tag == \"kondisi_lampu\":\n",
        "    lampu, pintu, jemuran, gas = getSensor()\n",
        "    print(\"Aweshome: kondisi lampu\", lampu, \"kondisi pintu\", pintu, \"kondisi jemuran\", jemuran, \"kondisi gas\", gas)\n",
        "    text = input(\"You: \")\n",
        "    chat(text)\n",
        "  elif response_tag == \"perpisahan\":\n",
        "    print(\"Aweshome : \",random.choice(responses['perpisahan']))\n",
        "  else:\n",
        "    print(\"Aweshome : \",random.choice(responses[response_tag]))\n",
        "    text = input(\"You: \")\n",
        "    chat(text)  "
      ]
    },
    {
      "cell_type": "code",
      "execution_count": null,
      "metadata": {
        "colab": {
          "background_save": true,
          "base_uri": "https://localhost:8080/"
        },
        "id": "CEy2iS-69ztD",
        "outputId": "10989827-2b8a-4b89-9589-24f38c6e0d1b"
      },
      "outputs": [
        {
          "data": {
            "text/plain": [
              "('nyala', 'terbuka', 'aman', 'mati')"
            ]
          },
          "execution_count": null,
          "metadata": {},
          "output_type": "execute_result"
        }
      ],
      "source": [
        "getSensor([True, False, True, False])"
      ]
    },
    {
      "cell_type": "code",
      "execution_count": null,
      "metadata": {
        "colab": {
          "background_save": true,
          "base_uri": "https://localhost:8080/",
          "height": 399
        },
        "id": "l1ptrpG-Nn1O",
        "outputId": "1e25b3a1-beaa-4f15-b54e-14c1255921fb"
      },
      "outputs": [
        {
          "name": "stdout",
          "output_type": "stream",
          "text": [
            "terima_kasih\n",
            "Aweshome :  Sami-sami\n",
            "kondisi_rumah\n"
          ]
        },
        {
          "ename": "IndexError",
          "evalue": "ignored",
          "output_type": "error",
          "traceback": [
            "\u001b[0;31m---------------------------------------------------------------------------\u001b[0m",
            "\u001b[0;31mIndexError\u001b[0m                                Traceback (most recent call last)",
            "\u001b[0;32m<ipython-input-27-e8bf0133a8b3>\u001b[0m in \u001b[0;36m<module>\u001b[0;34m()\u001b[0m\n\u001b[1;32m      1\u001b[0m \u001b[0minp\u001b[0m \u001b[0;34m=\u001b[0m \u001b[0minput\u001b[0m\u001b[0;34m(\u001b[0m\u001b[0;34m\"You: \"\u001b[0m\u001b[0;34m)\u001b[0m\u001b[0;34m\u001b[0m\u001b[0;34m\u001b[0m\u001b[0m\n\u001b[0;32m----> 2\u001b[0;31m \u001b[0mchat\u001b[0m\u001b[0;34m(\u001b[0m\u001b[0minp\u001b[0m\u001b[0;34m)\u001b[0m\u001b[0;34m\u001b[0m\u001b[0;34m\u001b[0m\u001b[0m\n\u001b[0m",
            "\u001b[0;32m<ipython-input-25-5e7ae2b6d252>\u001b[0m in \u001b[0;36mchat\u001b[0;34m(user_text)\u001b[0m\n\u001b[1;32m     61\u001b[0m     \u001b[0mprint\u001b[0m\u001b[0;34m(\u001b[0m\u001b[0;34m\"Aweshome : \"\u001b[0m\u001b[0;34m,\u001b[0m\u001b[0mrandom\u001b[0m\u001b[0;34m.\u001b[0m\u001b[0mchoice\u001b[0m\u001b[0;34m(\u001b[0m\u001b[0mresponses\u001b[0m\u001b[0;34m[\u001b[0m\u001b[0mresponse_tag\u001b[0m\u001b[0;34m]\u001b[0m\u001b[0;34m)\u001b[0m\u001b[0;34m)\u001b[0m\u001b[0;34m\u001b[0m\u001b[0;34m\u001b[0m\u001b[0m\n\u001b[1;32m     62\u001b[0m     \u001b[0mtext\u001b[0m \u001b[0;34m=\u001b[0m \u001b[0minput\u001b[0m\u001b[0;34m(\u001b[0m\u001b[0;34m\"You: \"\u001b[0m\u001b[0;34m)\u001b[0m\u001b[0;34m\u001b[0m\u001b[0;34m\u001b[0m\u001b[0m\n\u001b[0;32m---> 63\u001b[0;31m     \u001b[0mchat\u001b[0m\u001b[0;34m(\u001b[0m\u001b[0mtext\u001b[0m\u001b[0;34m)\u001b[0m\u001b[0;34m\u001b[0m\u001b[0;34m\u001b[0m\u001b[0m\n\u001b[0m",
            "\u001b[0;32m<ipython-input-25-5e7ae2b6d252>\u001b[0m in \u001b[0;36mchat\u001b[0;34m(user_text)\u001b[0m\n\u001b[1;32m     59\u001b[0m     \u001b[0mprint\u001b[0m\u001b[0;34m(\u001b[0m\u001b[0;34m\"Aweshome : \"\u001b[0m\u001b[0;34m,\u001b[0m\u001b[0mrandom\u001b[0m\u001b[0;34m.\u001b[0m\u001b[0mchoice\u001b[0m\u001b[0;34m(\u001b[0m\u001b[0mresponses\u001b[0m\u001b[0;34m[\u001b[0m\u001b[0;34m'perpisahan'\u001b[0m\u001b[0;34m]\u001b[0m\u001b[0;34m)\u001b[0m\u001b[0;34m)\u001b[0m\u001b[0;34m\u001b[0m\u001b[0;34m\u001b[0m\u001b[0m\n\u001b[1;32m     60\u001b[0m   \u001b[0;32melse\u001b[0m\u001b[0;34m:\u001b[0m\u001b[0;34m\u001b[0m\u001b[0;34m\u001b[0m\u001b[0m\n\u001b[0;32m---> 61\u001b[0;31m     \u001b[0mprint\u001b[0m\u001b[0;34m(\u001b[0m\u001b[0;34m\"Aweshome : \"\u001b[0m\u001b[0;34m,\u001b[0m\u001b[0mrandom\u001b[0m\u001b[0;34m.\u001b[0m\u001b[0mchoice\u001b[0m\u001b[0;34m(\u001b[0m\u001b[0mresponses\u001b[0m\u001b[0;34m[\u001b[0m\u001b[0mresponse_tag\u001b[0m\u001b[0;34m]\u001b[0m\u001b[0;34m)\u001b[0m\u001b[0;34m)\u001b[0m\u001b[0;34m\u001b[0m\u001b[0;34m\u001b[0m\u001b[0m\n\u001b[0m\u001b[1;32m     62\u001b[0m     \u001b[0mtext\u001b[0m \u001b[0;34m=\u001b[0m \u001b[0minput\u001b[0m\u001b[0;34m(\u001b[0m\u001b[0;34m\"You: \"\u001b[0m\u001b[0;34m)\u001b[0m\u001b[0;34m\u001b[0m\u001b[0;34m\u001b[0m\u001b[0m\n\u001b[1;32m     63\u001b[0m     \u001b[0mchat\u001b[0m\u001b[0;34m(\u001b[0m\u001b[0mtext\u001b[0m\u001b[0;34m)\u001b[0m\u001b[0;34m\u001b[0m\u001b[0;34m\u001b[0m\u001b[0m\n",
            "\u001b[0;32m/usr/lib/python3.7/random.py\u001b[0m in \u001b[0;36mchoice\u001b[0;34m(self, seq)\u001b[0m\n\u001b[1;32m    259\u001b[0m             \u001b[0mi\u001b[0m \u001b[0;34m=\u001b[0m \u001b[0mself\u001b[0m\u001b[0;34m.\u001b[0m\u001b[0m_randbelow\u001b[0m\u001b[0;34m(\u001b[0m\u001b[0mlen\u001b[0m\u001b[0;34m(\u001b[0m\u001b[0mseq\u001b[0m\u001b[0;34m)\u001b[0m\u001b[0;34m)\u001b[0m\u001b[0;34m\u001b[0m\u001b[0;34m\u001b[0m\u001b[0m\n\u001b[1;32m    260\u001b[0m         \u001b[0;32mexcept\u001b[0m \u001b[0mValueError\u001b[0m\u001b[0;34m:\u001b[0m\u001b[0;34m\u001b[0m\u001b[0;34m\u001b[0m\u001b[0m\n\u001b[0;32m--> 261\u001b[0;31m             \u001b[0;32mraise\u001b[0m \u001b[0mIndexError\u001b[0m\u001b[0;34m(\u001b[0m\u001b[0;34m'Cannot choose from an empty sequence'\u001b[0m\u001b[0;34m)\u001b[0m \u001b[0;32mfrom\u001b[0m \u001b[0;32mNone\u001b[0m\u001b[0;34m\u001b[0m\u001b[0;34m\u001b[0m\u001b[0m\n\u001b[0m\u001b[1;32m    262\u001b[0m         \u001b[0;32mreturn\u001b[0m \u001b[0mseq\u001b[0m\u001b[0;34m[\u001b[0m\u001b[0mi\u001b[0m\u001b[0;34m]\u001b[0m\u001b[0;34m\u001b[0m\u001b[0;34m\u001b[0m\u001b[0m\n\u001b[1;32m    263\u001b[0m \u001b[0;34m\u001b[0m\u001b[0m\n",
            "\u001b[0;31mIndexError\u001b[0m: Cannot choose from an empty sequence"
          ]
        }
      ],
      "source": [
        "inp = input(\"You: \")\n",
        "chat(inp)"
      ]
    },
    {
      "cell_type": "code",
      "execution_count": null,
      "metadata": {
        "id": "aacvJ9z-9z92"
      },
      "outputs": [],
      "source": [
        ""
      ]
    },
    {
      "cell_type": "code",
      "execution_count": null,
      "metadata": {
        "id": "LDlSY_7Z90Oh"
      },
      "outputs": [],
      "source": [
        ""
      ]
    }
  ],
  "metadata": {
    "colab": {
      "collapsed_sections": [],
      "name": "Copy of aweshome_chatbot",
      "provenance": []
    },
    "kernelspec": {
      "display_name": "Python 3",
      "name": "python3"
    },
    "language_info": {
      "name": "python"
    }
  },
  "nbformat": 4,
  "nbformat_minor": 0
}